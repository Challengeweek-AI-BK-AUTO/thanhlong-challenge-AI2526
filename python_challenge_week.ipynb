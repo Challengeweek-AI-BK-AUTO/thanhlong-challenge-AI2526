{
  "cells": [
    {
      "cell_type": "markdown",
      "metadata": {
        "id": "view-in-github",
        "colab_type": "text"
      },
      "source": [
        "<a href=\"https://colab.research.google.com/github/Challengeweek-AI-BK-AUTO/thanhlong-challenge-AI2526/blob/main/python_challenge_week.ipynb\" target=\"_parent\"><img src=\"https://colab.research.google.com/assets/colab-badge.svg\" alt=\"Open In Colab\"/></a>"
      ]
    },
    {
      "cell_type": "markdown",
      "id": "80eec36f",
      "metadata": {
        "id": "80eec36f"
      },
      "source": [
        "# Python Challenge Week\n",
        "Chào mừng bạn đến với tuần thử thách! Notebook này dẫn bạn đi từ kiến thức nền tảng tới dự án dữ liệu hoàn chỉnh. Hãy đọc kỹ phần mô tả, chạy các ví dụ và hoàn thành thử thách cuối mỗi module."
      ]
    },
    {
      "cell_type": "markdown",
      "id": "bd57068b",
      "metadata": {
        "id": "bd57068b"
      },
      "source": [
        "## Hướng dẫn sử dụng\n",
        "1. Đọc phần 📖 Giải thích để nắm khái niệm.\n",
        "2. Chạy các cell 💻 Ví dụ để quan sát kết quả.\n",
        "3. Nghiên cứu ⚠️ Common Mistakes và 💡 Pythonic Way để tránh lỗi.\n",
        "4. Hoàn thành 🎯 Thử thách bằng cách viết mã ở các cell TODO.\n",
        "5. Ở cuối notebook, chọn một dự án để thực hành tổng hợp kỹ năng."
      ]
    },
    {
      "cell_type": "markdown",
      "id": "c15a09d2",
      "metadata": {
        "id": "c15a09d2"
      },
      "source": [
        "## Phần Setup\n",
        "Chúng ta sẽ cài đặt các thư viện cần thiết và kiểm tra môi trường."
      ]
    },
    {
      "cell_type": "markdown",
      "id": "de67f094",
      "metadata": {
        "id": "de67f094"
      },
      "source": [
        "### Thông tin cơ bản\n",
        "Họ và tên:  Nguyễn Thành Long\n",
        "MSSV:  202520426\n",
        "Link conservation AI: [bấm vào đây](https://gemini.google.com/app/a335f8ebe34051f3?is_sa=1&is_sa=1&android-min-version=301356232&ios-min-version=322.0&campaign_id=skws&utm_source=sem&utm_source=google&utm_medium=paid-media&utm_medium=cpc&utm_campaign=skws&utm_campaign=2024viVN_gemfeb&pt=9008&mt=8&ct=p-growth-sem-skws&gad_source=1&gad_campaignid=22436452974&gbraid=0AAAAApk5Bhm6pgjSTNYb5H2E8cFbZmZZ3&gclid=CjwKCAjw6ZTCBhBOEiwAqfwJdyElNWt9Ny0uTBvP9eO-hD8Q3eek7X3o6ZPkSmgcCqHI58adDE-wOhoCZmUQAvD_BwE&gclsrc=aw.ds)"
      ]
    },
    {
      "cell_type": "markdown",
      "id": "ced1c1be",
      "metadata": {
        "id": "ced1c1be"
      },
      "source": [
        "### Cài đặt thư viện\n",
        "Nếu bạn đang dùng môi trường ảo, hãy đảm bảo đã kích hoạt trước khi cài đặt."
      ]
    },
    {
      "cell_type": "code",
      "execution_count": null,
      "id": "3259f264",
      "metadata": {
        "id": "3259f264",
        "outputId": "0b5e07b3-cfa5-4f3d-8a33-8ee8fd54c5ea",
        "collapsed": true,
        "colab": {
          "base_uri": "https://localhost:8080/"
        }
      },
      "outputs": [
        {
          "output_type": "stream",
          "name": "stdout",
          "text": [
            "Requirement already satisfied: numpy in /usr/local/lib/python3.12/dist-packages (2.0.2)\n",
            "Requirement already satisfied: matplotlib in /usr/local/lib/python3.12/dist-packages (3.10.0)\n",
            "Requirement already satisfied: contourpy>=1.0.1 in /usr/local/lib/python3.12/dist-packages (from matplotlib) (1.3.3)\n",
            "Requirement already satisfied: cycler>=0.10 in /usr/local/lib/python3.12/dist-packages (from matplotlib) (0.12.1)\n",
            "Requirement already satisfied: fonttools>=4.22.0 in /usr/local/lib/python3.12/dist-packages (from matplotlib) (4.60.1)\n",
            "Requirement already satisfied: kiwisolver>=1.3.1 in /usr/local/lib/python3.12/dist-packages (from matplotlib) (1.4.9)\n",
            "Requirement already satisfied: packaging>=20.0 in /usr/local/lib/python3.12/dist-packages (from matplotlib) (25.0)\n",
            "Requirement already satisfied: pillow>=8 in /usr/local/lib/python3.12/dist-packages (from matplotlib) (11.3.0)\n",
            "Requirement already satisfied: pyparsing>=2.3.1 in /usr/local/lib/python3.12/dist-packages (from matplotlib) (3.2.5)\n",
            "Requirement already satisfied: python-dateutil>=2.7 in /usr/local/lib/python3.12/dist-packages (from matplotlib) (2.9.0.post0)\n",
            "Requirement already satisfied: six>=1.5 in /usr/local/lib/python3.12/dist-packages (from python-dateutil>=2.7->matplotlib) (1.17.0)\n"
          ]
        }
      ],
      "source": [
        "# Cài đặt numpy và matplotlib (chạy một lần)\n",
        "%pip install numpy matplotlib"
      ]
    },
    {
      "cell_type": "markdown",
      "id": "396b46d4",
      "metadata": {
        "id": "396b46d4"
      },
      "source": [
        "### Kiểm tra import\n",
        "Chạy cell dưới để chắc chắn thư viện đã sẵn sàng."
      ]
    },
    {
      "cell_type": "code",
      "execution_count": null,
      "id": "4a974b0c",
      "metadata": {
        "id": "4a974b0c",
        "outputId": "4f53e2bf-6fcc-420c-dec3-27057aadc757",
        "colab": {
          "base_uri": "https://localhost:8080/"
        }
      },
      "outputs": [
        {
          "output_type": "stream",
          "name": "stdout",
          "text": [
            "Thư viện đã sẵn sàng!\n"
          ]
        }
      ],
      "source": [
        "import math\n",
        "import statistics as stats\n",
        "import numpy as np\n",
        "import matplotlib.pyplot as plt\n",
        "\n",
        "print(\"Thư viện đã sẵn sàng!\")"
      ]
    },
    {
      "cell_type": "markdown",
      "id": "379eb267",
      "metadata": {
        "id": "379eb267"
      },
      "source": [
        "## Phần 1: Python Essentials"
      ]
    },
    {
      "cell_type": "markdown",
      "id": "07ecbe18",
      "metadata": {
        "id": "07ecbe18"
      },
      "source": [
        "### Module 1: Basic Syntax & Data Types\n",
        "#### 📖 Giải thích\n",
        "- Các kiểu dữ liệu cơ bản: `int`, `float`, `str`, `bool`.\n",
        "- Ép kiểu bằng `int()`, `float()`, `str()`, `bool()`.\n",
        "#### ⚠️ Common Mistakes\n",
        "- Cộng chuỗi với số: `\"5\" + 2` gây `TypeError`.\n",
        "#### 💡 Pythonic Way\n",
        "- Ưu tiên f-string (`f\"...{value}...\"`) thay vì `%` formatting.\n",
        "#### 🎯 Thử thách\n",
        "- Viết chương trình nhận cân nặng (kg), chiều cao (m), tính BMI và phân loại."
      ]
    },
    {
      "cell_type": "code",
      "execution_count": null,
      "id": "6d7d8998",
      "metadata": {
        "id": "6d7d8998",
        "outputId": "a19db7a6-d4ee-4b6c-9b33-96ea9974ffd1",
        "colab": {
          "base_uri": "https://localhost:8080/"
        }
      },
      "outputs": [
        {
          "output_type": "stream",
          "name": "stdout",
          "text": [
            "Lan (20 tuổi) cao 1.62m. Sinh viên? True\n",
            "Ép kiểu từ chuỗi sang số: 42\n"
          ]
        }
      ],
      "source": [
        "# 💻 Ví dụ: Khai báo biến và ép kiểu\n",
        "name = \"Lan\"\n",
        "age = 20\n",
        "height = 1.62\n",
        "is_student = True\n",
        "age_str = str(age)\n",
        "print(f\"{name} ({age} tuổi) cao {height}m. Sinh viên? {is_student}\")\n",
        "print(\"Ép kiểu từ chuỗi sang số:\", int(\"42\"))"
      ]
    },
    {
      "cell_type": "code",
      "execution_count": null,
      "id": "5cc205f5",
      "metadata": {
        "id": "5cc205f5",
        "colab": {
          "base_uri": "https://localhost:8080/"
        },
        "outputId": "d74ad7cd-9460-462c-d5c1-6eeddf97be3e"
      },
      "outputs": [
        {
          "output_type": "stream",
          "name": "stdout",
          "text": [
            "Nhập cân nặng của bạn (kg): 1.54\n",
            "Nhập chiều cao của bạn (m): 10\n",
            "Chỉ số BMI của bạn là: 0.02 \n",
            "Kết quả: Gầy (Underweight)\n"
          ]
        }
      ],
      "source": [
        "# 🎯 Thử thách: Tính BMI và phân loại\n",
        "# TODO: Nhập cân nặng (kg) và chiều cao (m) từ người dùng\n",
        "weight_str = input(\"Nhập cân nặng của bạn (kg): \")\n",
        "height_str = input(\"Nhập chiều cao của bạn (m): \")\n",
        "weight = float(weight_str)\n",
        "height = float(height_str)\n",
        "# TODO: Tính BMI = weight / (height ** 2)\n",
        "BMI = weight / (height ** 2)\n",
        "BMI = round(BMI, 2) # Làm tròn 2 chữ số thập phân\n",
        "print(f\"Chỉ số BMI của bạn là: {BMI} \")\n",
        "# TODO: Phân loại theo chuẩn WHO (Underweight, Normal, Overweight, Obese\n",
        "if BMI < 18.5:\n",
        "  print(\"Kết quả: Gầy (Underweight)\")\n",
        "elif BMI < 25.0:\n",
        "  print(\"Bình thường (Normal)\")\n",
        "elif BMI < 30.0:\n",
        "  print(\"Thừa cân (Overweight)\")\n",
        "else:\n",
        "  print(\"Béo phì (Obese)\")\n",
        "# Gợi ý: Dùng điều kiện if/elif để phân loại\n"
      ]
    },
    {
      "cell_type": "markdown",
      "id": "e01f86d4",
      "metadata": {
        "id": "e01f86d4"
      },
      "source": [
        "### Module 2: Data Structures - List\n",
        "#### 📖 Giải thích\n",
        "- `list` là cấu trúc có thứ tự, mutable, hỗ trợ indexing & slicing.\n",
        "- Dùng `list[start:stop:step]` để cắt danh sách.\n",
        "#### ⚠️ Common Mistakes\n",
        "- \"Index out of range\" khi truy cập vượt giới hạn.\n",
        "- Sao chép nông: `copy_list = original_list` cùng tham chiếu.\n",
        "#### 💡 Pythonic Way\n",
        "- Dùng slicing `list[:]` tạo bản sao, hoặc list comprehension.\n",
        "- Khai thác indexing âm (`list[-1]`) để lấy phần tử cuối.\n",
        "#### 🎯 Thử thách\n",
        "- Tìm max, min, trung bình của danh sách điểm."
      ]
    },
    {
      "cell_type": "code",
      "execution_count": null,
      "id": "6875f2d9",
      "metadata": {
        "id": "6875f2d9",
        "outputId": "2e24e228-3abd-435e-f9b8-44185b083a74",
        "colab": {
          "base_uri": "https://localhost:8080/"
        }
      },
      "outputs": [
        {
          "output_type": "stream",
          "name": "stdout",
          "text": [
            "Danh sách điểm: [8.5, 9.0, 6.75, 7.8, 10, 8.0]\n",
            "Điểm đầu tiên: 8.5\n",
            "Điểm cuối cùng: 8.0\n",
            "Top 3 điểm đầu: [8.5, 9.0, 6.75]\n",
            "Danh sách sau khi reverse: <list_reverseiterator object at 0x787fe3091870>\n"
          ]
        }
      ],
      "source": [
        "# 💻 Ví dụ: Các thao tác list\n",
        "scores = [8.5, 9.0, 6.5, 7.8, 10]\n",
        "scores.append(8.0)\n",
        "removed = scores.pop(2)  # Xoá phần tử tại index 2\n",
        "scores.insert(2, 6.75)\n",
        "print(\"Danh sách điểm:\", scores)\n",
        "print(\"Điểm đầu tiên:\", scores[0])\n",
        "print(\"Điểm cuối cùng:\", scores[-1])\n",
        "print(\"Top 3 điểm đầu:\", scores[:3])\n",
        "print(\"Danh sách sau khi reverse:\", reversed(scores))"
      ]
    },
    {
      "cell_type": "code",
      "execution_count": null,
      "id": "23d9e7f8",
      "metadata": {
        "id": "23d9e7f8",
        "colab": {
          "base_uri": "https://localhost:8080/"
        },
        "outputId": "5bbb900a-41ac-464c-9ac9-4ce8558489e4"
      },
      "outputs": [
        {
          "output_type": "stream",
          "name": "stdout",
          "text": [
            "Điểm cao nhất: 10\n",
            "Điểm thấp nhất: 6\n",
            "Điểm trung bình: 8.08\n"
          ]
        }
      ],
      "source": [
        "# 🎯 Thử thách: Thống kê điểm trong list\n",
        "# TODO: Cho sẵn danh sách điểm, hãy tính max, min và trung bình\n",
        "# TODO: In kết quả với định dạng dễ đọc\n",
        "sample_score = [9, 7.5, 8.25, 6, 10, 7.75]\n",
        "max_score = max(sample_score)\n",
        "min_score = min(sample_score)\n",
        "avg_score = sum(sample_score) / len(sample_score)\n",
        "avg_score = round(avg_score, 2)\n",
        "print(f\"Điểm cao nhất: {max_score}\")\n",
        "print(f\"Điểm thấp nhất: {min_score}\")\n",
        "print(f\"Điểm trung bình: {avg_score}\")\n",
        "\n",
        "# Gợi ý: sử dụng max(), min(), sum()/len()"
      ]
    },
    {
      "cell_type": "markdown",
      "id": "c6b94cfc",
      "metadata": {
        "id": "c6b94cfc"
      },
      "source": [
        "### Module 3: Data Structures - Dictionary\n",
        "#### 📖 Giải thích\n",
        "- `dict` lưu trữ cặp key-value, key phải hashable và duy nhất.\n",
        "- Các phương thức hữu dụng: `.keys()`, `.values()`, `.items()`.\n",
        "#### ⚠️ Common Mistakes\n",
        "- `KeyError` khi truy cập key không tồn tại.\n",
        "- Dùng kiểu mutable làm key (list, dict).\n",
        "#### 💡 Pythonic Way\n",
        "- Dùng `dict.get(key, default)` để tránh lỗi.\n",
        "- Duyệt `for key, value in dict.items()` để lấy cặp key & value.\n",
        "#### 🎯 Thử thách\n",
        "- Đếm tần suất xuất hiện của mỗi từ trong một đoạn văn."
      ]
    },
    {
      "cell_type": "code",
      "execution_count": null,
      "id": "33fd6f04",
      "metadata": {
        "id": "33fd6f04",
        "outputId": "21dbab65-4940-42bb-a757-b50cd666f26e"
      },
      "outputs": [
        {
          "name": "stdout",
          "output_type": "stream",
          "text": [
            "Thông tin học sinh:\n",
            "- name: Minh\n",
            "- age: 19\n",
            "- scores: [8, 9, 7.5]\n",
            "- email: minh@example.com\n",
            "- major: Advanced Automotive Engineering\n",
            "Điểm trung bình: 8.166666666666666\n"
          ]
        }
      ],
      "source": [
        "# 💻 Ví dụ: Làm việc với dictionary\n",
        "student = {\"name\": \"Minh\", \"age\": 19, \"scores\": [8, 9, 7.5]}\n",
        "student[\"email\"] = \"minh@example.com\"\n",
        "student.update({\"major\": \"Advanced Automotive Engineering\"})\n",
        "print(\"Thông tin học sinh:\")\n",
        "for key, value in student.items():\n",
        "    print(f\"- {key}: {value}\")\n",
        "print(\"Điểm trung bình:\", sum(student[\"scores\"]) / len(student[\"scores\"]))"
      ]
    },
    {
      "cell_type": "code",
      "execution_count": null,
      "id": "c3e32a64",
      "metadata": {
        "id": "c3e32a64",
        "colab": {
          "base_uri": "https://localhost:8080/"
        },
        "outputId": "2c708051-aa01-4086-9bdc-84798d01a3c6"
      },
      "outputs": [
        {
          "output_type": "stream",
          "name": "stdout",
          "text": [
            "Nhập một câu đi: anv dndf sdf ab AB ab Ab\n",
            "\n",
            "Tần suất xuất hiện của từ:\n",
            "- anv: 1 lần\n",
            "- dndf: 1 lần\n",
            "- sdf: 1 lần\n",
            "- ab: 4 lần\n"
          ]
        }
      ],
      "source": [
        "# 🎯 Thử thách: Đếm tần suất từ\n",
        "# TODO: Yêu cầu người dùng nhập một câu bất kỳ\n",
        "# TODO: Chuyển câu về chữ thường, tách theo khoảng trắng\n",
        "# TODO: Dùng dictionary để đếm số lần xuất hiện của từng từ\n",
        "# Gợi ý: Sử dụng dict.get(word, 0)\n",
        "def kiem_tra_cau():\n",
        "    cau_nhap = input(\"Nhập một câu đi: \")\n",
        "    ds_tu = cau_nhap.lower().split()\n",
        "    dem_tu = {}\n",
        "    for tu in ds_tu:\n",
        "        if tu:\n",
        "            dem_tu[tu] = dem_tu.get(tu, 0) + 1\n",
        "    print(\"\\nTần suất xuất hiện của từ:\")\n",
        "    for tu, so_lan in dem_tu.items():\n",
        "        print(f\"- {tu}: {so_lan} lần\")\n",
        "kiem_tra_cau()"
      ]
    },
    {
      "cell_type": "markdown",
      "id": "d8df3c7f",
      "metadata": {
        "id": "d8df3c7f"
      },
      "source": [
        "### Module 4: Control Flow\n",
        "#### 📖 Giải thích\n",
        "- Cấu trúc điều kiện: `if`, `elif`, `else`.\n",
        "- Vòng lặp: `for`, `while`, `range`, kèm `break`, `continue`.\n",
        "#### ⚠️ Common Mistakes\n",
        "- Vòng lặp vô hạn do điều kiện dừng sai.\n",
        "- Lỗi thụt lề (indentation).\n",
        "#### 💡 Pythonic Way\n",
        "- Duyệt trực tiếp phần tử: `for item in collection`.\n",
        "- Dùng `enumerate()` khi cần index và giá trị.\n",
        "#### 🎯 Thử thách\n",
        "- In bảng cửu chương từ 1 đến 10 (mỗi dòng biểu diễn một phép nhân)."
      ]
    },
    {
      "cell_type": "code",
      "execution_count": null,
      "id": "79d601fa",
      "metadata": {
        "id": "79d601fa",
        "colab": {
          "base_uri": "https://localhost:8080/"
        },
        "outputId": "94bb8ec6-cfaa-4803-d0a5-898277a0e5a6"
      },
      "outputs": [
        {
          "output_type": "stream",
          "name": "stdout",
          "text": [
            "1. apple\n",
            "2. banana\n",
            "3. cherry\n",
            "Lan làm rất tốt!\n",
            "Minh làm rất tốt!\n",
            "Hoa cần cải thiện\n"
          ]
        }
      ],
      "source": [
        "# 💻 Ví dụ: Vòng lặp với list và dict\n",
        "fruits = [\"apple\", \"banana\", \"cherry\"]\n",
        "for index, fruit in enumerate(fruits, start=1):\n",
        "    print(f\"{index}. {fruit}\")\n",
        "\n",
        "grades = {\"Lan\": 9, \"Minh\": 8.5, \"Hoa\": 7.75}\n",
        "for name, grade in grades.items():\n",
        "    if grade < 8:\n",
        "        print(f\"{name} cần cải thiện\")\n",
        "    else:\n",
        "        print(f\"{name} làm rất tốt!\")"
      ]
    },
    {
      "cell_type": "code",
      "execution_count": null,
      "id": "7659eb63",
      "metadata": {
        "id": "7659eb63",
        "colab": {
          "base_uri": "https://localhost:8080/"
        },
        "outputId": "777f6f3b-dcf3-487b-ed9a-8f1eb049747a"
      },
      "outputs": [
        {
          "output_type": "stream",
          "name": "stdout",
          "text": [
            "1 x  1 =   1    2 x  1 =   2    3 x  1 =   3    4 x  1 =   4    5 x  1 =   5    \n",
            "1 x  2 =   2    2 x  2 =   4    3 x  2 =   6    4 x  2 =   8    5 x  2 =  10    \n",
            "1 x  3 =   3    2 x  3 =   6    3 x  3 =   9    4 x  3 =  12    5 x  3 =  15    \n",
            "1 x  4 =   4    2 x  4 =   8    3 x  4 =  12    4 x  4 =  16    5 x  4 =  20    \n",
            "1 x  5 =   5    2 x  5 =  10    3 x  5 =  15    4 x  5 =  20    5 x  5 =  25    \n",
            "1 x  6 =   6    2 x  6 =  12    3 x  6 =  18    4 x  6 =  24    5 x  6 =  30    \n",
            "1 x  7 =   7    2 x  7 =  14    3 x  7 =  21    4 x  7 =  28    5 x  7 =  35    \n",
            "1 x  8 =   8    2 x  8 =  16    3 x  8 =  24    4 x  8 =  32    5 x  8 =  40    \n",
            "1 x  9 =   9    2 x  9 =  18    3 x  9 =  27    4 x  9 =  36    5 x  9 =  45    \n",
            "1 x 10 =  10    2 x 10 =  20    3 x 10 =  30    4 x 10 =  40    5 x 10 =  50    \n",
            "\n",
            "------------------------------------------------------------------------------------\n",
            "\n",
            "6 x  1 =   6    7 x  1 =   7    8 x  1 =   8    9 x  1 =   9    10 x  1 =  10    \n",
            "6 x  2 =  12    7 x  2 =  14    8 x  2 =  16    9 x  2 =  18    10 x  2 =  20    \n",
            "6 x  3 =  18    7 x  3 =  21    8 x  3 =  24    9 x  3 =  27    10 x  3 =  30    \n",
            "6 x  4 =  24    7 x  4 =  28    8 x  4 =  32    9 x  4 =  36    10 x  4 =  40    \n",
            "6 x  5 =  30    7 x  5 =  35    8 x  5 =  40    9 x  5 =  45    10 x  5 =  50    \n",
            "6 x  6 =  36    7 x  6 =  42    8 x  6 =  48    9 x  6 =  54    10 x  6 =  60    \n",
            "6 x  7 =  42    7 x  7 =  49    8 x  7 =  56    9 x  7 =  63    10 x  7 =  70    \n",
            "6 x  8 =  48    7 x  8 =  56    8 x  8 =  64    9 x  8 =  72    10 x  8 =  80    \n",
            "6 x  9 =  54    7 x  9 =  63    8 x  9 =  72    9 x  9 =  81    10 x  9 =  90    \n",
            "6 x 10 =  60    7 x 10 =  70    8 x 10 =  80    9 x 10 =  90    10 x 10 = 100    \n"
          ]
        }
      ],
      "source": [
        "# 🎯 Thử thách: Bảng cửu chương\n",
        "# TODO: Sử dụng hai vòng lặp for lồng nhau\n",
        "# TODO: In bảng cửu chương từ 1 đến 10 theo định dạng 'a x b = c'\n",
        "# Gợi ý: sử dụng end='\t' để canh dòng đẹp mắt\n",
        "# Bảng cửu chương được định dạng thành 2 khối lớn (Hàng 1: 1-5, Hàng 2: 6-10)\n",
        "\n",
        "# Định nghĩa các hằng số (constants) để code dễ hiểu hơn\n",
        "SO_COT = 5\n",
        "SO_LAN_NHAN = 10\n",
        "def bang_cuu_chuong():\n",
        "    for khoi in range(2):\n",
        "        so_bat_dau = khoi * SO_COT + 1\n",
        "        so_ket_thuc = so_bat_dau + SO_COT - 1\n",
        "        if khoi > 0:\n",
        "            print(\"\\n\" + \"---\" * 28 + \"\\n\")\n",
        "        for nhan_voi in range(1, SO_LAN_NHAN + 1):\n",
        "            for vi_tri_cot in range(SO_COT):\n",
        "                so_nhan = so_bat_dau + vi_tri_cot\n",
        "                ket_qua = so_nhan * nhan_voi\n",
        "                print(\n",
        "                    f\"{so_nhan} x {nhan_voi:2} = {ket_qua:3}\",\n",
        "                    end=\"    \"\n",
        "                )\n",
        "            print()\n",
        "if __name__ == \"__main__\":\n",
        "    bang_cuu_chuong()\n"
      ]
    },
    {
      "cell_type": "markdown",
      "id": "86da1b90",
      "metadata": {
        "id": "86da1b90"
      },
      "source": [
        "### Module 5: Functions & Strings\n",
        "#### 📖 Giải thích\n",
        "- Định nghĩa hàm với `def`, tham số và `return`.\n",
        "- Các thao tác chuỗi: `.split()`, `.join()`, `.strip()`, `.lower()`.\n",
        "#### ⚠️ Common Mistakes\n",
        "- Quên `return` nên hàm trả về `None`.\n",
        "- Dùng giá trị mutable làm tham số mặc định.\n",
        "#### 💡 Pythonic Way\n",
        "- Viết docstring ngắn mô tả chức năng hàm.\n",
        "- (Tuỳ chọn) Dùng type hints để rõ ràng đầu vào/đầu ra.\n",
        "#### 🎯 Thử thách\n",
        "- Viết hàm kiểm tra chuỗi palindrome (đối xứng)."
      ]
    },
    {
      "cell_type": "code",
      "execution_count": null,
      "id": "8c65b574",
      "metadata": {
        "id": "8c65b574",
        "outputId": "11859c97-77cc-41f2-84a1-86f6b9a45455"
      },
      "outputs": [
        {
          "name": "stdout",
          "output_type": "stream",
          "text": [
            "Nguyen Van A đạt 8.46 điểm\n"
          ]
        }
      ],
      "source": [
        "# 💻 Ví dụ: Định nghĩa hàm và thao tác chuỗi\n",
        "def format_student(name: str, score: float) -> str:\n",
        "    \"\"\"Trả về câu mô tả điểm của học sinh.\"\"\"\n",
        "    clean_name = name.strip().title()\n",
        "    return f\"{clean_name} đạt {score:.2f} điểm\"\n",
        "\n",
        "print(format_student(\"  nguyen van a\", 8.456))"
      ]
    },
    {
      "cell_type": "code",
      "execution_count": null,
      "id": "e8d2abbe",
      "metadata": {
        "id": "e8d2abbe",
        "outputId": "0a9a0f51-6a06-4307-d023-8ccc1c8abf7d",
        "colab": {
          "base_uri": "https://localhost:8080/"
        }
      },
      "outputs": [
        {
          "output_type": "stream",
          "name": "stdout",
          "text": [
            "level -> True\n",
            "Able was I ere I saw Elba -> True\n",
            "Python -> False\n"
          ]
        }
      ],
      "source": [
        "# 🎯 Thử thách: Hàm kiểm tra palindrome\n",
        "# TODO: Viết hàm is_palindrome(text: str) -> bool\n",
        "# TODO: Bỏ khoảng trắng và phân biệt hoa thường trước khi kiểm tra\n",
        "# TODO: Thử nghiệm một vài ví dụ\n",
        "def is_palindrome(text: str) -> bool:\n",
        "  #  pass  # Thay thế bằng triển khai của bạn\n",
        " new_text = text.lower().replace(' ', '')\n",
        " rev_text = new_text[::-1]\n",
        " return new_text == rev_text\n",
        "\n",
        "# Ví dụ kiểm thử\n",
        "examples = [\"level\", \"Able was I ere I saw Elba\", \"Python\"]\n",
        "for example in examples:\n",
        "    print(example, '->', is_palindrome(example))"
      ]
    },
    {
      "cell_type": "markdown",
      "id": "e99ff3d2",
      "metadata": {
        "id": "e99ff3d2"
      },
      "source": [
        "### Module 6: Exception Handling\n",
        "#### 📖 Giải thích\n",
        "- Khối `try`/`except`/`else`/`finally`.\n",
        "- Các lỗi thường gặp: `ValueError`, `TypeError`.\n",
        "#### ⚠️ Common Mistakes\n",
        "- Bắt `except:` quá rộng làm che dấu lỗi.\n",
        "#### 💡 Pythonic Way\n",
        "- Bắt lỗi cụ thể, tuân theo triết lý EAFP (Easier to Ask Forgiveness than Permission).\n",
        "#### 🎯 Thử thách\n",
        "- Nhập và validate số nguyên dương từ người dùng."
      ]
    },
    {
      "cell_type": "code",
      "execution_count": null,
      "id": "f7e42d04",
      "metadata": {
        "id": "f7e42d04",
        "outputId": "83e7c813-d768-49bd-a2db-bb939fc1ff4e",
        "colab": {
          "base_uri": "https://localhost:8080/"
        }
      },
      "outputs": [
        {
          "output_type": "stream",
          "name": "stdout",
          "text": [
            "5.0\n",
            "Không thể chia cho 0!\n",
            "inf\n"
          ]
        }
      ],
      "source": [
        "# 💻 Ví dụ: Xử lý input không hợp lệ\n",
        "def divide(a: float, b: float) -> float:\n",
        "    try:\n",
        "        return a / b\n",
        "    except ZeroDivisionError:\n",
        "        print(\"Không thể chia cho 0!\")\n",
        "        return float('inf')\n",
        "\n",
        "print(divide(10, 2))\n",
        "print(divide(5, 0))"
      ]
    },
    {
      "cell_type": "code",
      "execution_count": null,
      "id": "9df56ff6",
      "metadata": {
        "id": "9df56ff6",
        "colab": {
          "base_uri": "https://localhost:8080/"
        },
        "outputId": "8f2f1c0b-5fab-48db-fec0-67f8c43bc2be"
      },
      "outputs": [
        {
          "output_type": "stream",
          "name": "stdout",
          "text": [
            "Nhập số nguyên dương: -4\n",
            "Nhập lại đê: Số phải lớn hơn 0.\n",
            "Nhập số nguyên dương: 6\n",
            "Số hợp lệ: 6\n"
          ]
        }
      ],
      "source": [
        "# 🎯 Thử thách: Validate số nguyên dương\n",
        "# TODO: Yêu cầu người dùng nhập một số\n",
        "# TODO: Dùng try/except để bắt ValueError\n",
        "# TODO: Kiểm tra số > 0, nếu không hãy yêu cầu nhập lại\n",
        "# Gợi ý: Dùng vòng lặp while True\n",
        "def nhap_so_duong():\n",
        "    while True:\n",
        "        try:\n",
        "            so_nhap = input(\"Nhập số nguyên dương: \")\n",
        "            gia_tri = int(so_nhap)\n",
        "\n",
        "        except ValueError:\n",
        "            print(\"Lỗi roài: Đầu vào không phải là số. Hãy nhập lại nhé.\")\n",
        "\n",
        "        else:\n",
        "            if gia_tri > 0:\n",
        "                print(f\"Số hợp lệ: {gia_tri}\")\n",
        "                return gia_tri\n",
        "            else:\n",
        "                print(\"Nhập lại đê: Số phải lớn hơn 0.\")\n",
        "\n",
        "if __name__ == \"__main__\":\n",
        "    so = nhap_so_duong()"
      ]
    },
    {
      "cell_type": "markdown",
      "id": "f0eeb5b3",
      "metadata": {
        "id": "f0eeb5b3"
      },
      "source": [
        "## Phần 2: Python for Data Science"
      ]
    },
    {
      "cell_type": "markdown",
      "id": "7ef97392",
      "metadata": {
        "id": "7ef97392"
      },
      "source": [
        "### Module 7: List Comprehension & Lambda\n",
        "#### 📖 Giải thích\n",
        "- Cú pháp list comprehension: `[biểu_thức for phần_tử in iterable if điều_kiện]`.\n",
        "- Lambda: hàm ẩn danh hữu ích cho thao tác nhanh.\n",
        "#### ⚠️ Common Mistakes\n",
        "- Viết comprehension quá dài, khó đọc.\n",
        "#### 💡 Pythonic Way\n",
        "- Ưu tiên comprehension khi logic đơn giản.\n",
        "- Khi logic phức tạp, tách ra hàm riêng để rõ ràng.\n",
        "#### 🎯 Thử thách\n",
        "- Lọc số chẵn trong danh sách và bình phương chúng."
      ]
    },
    {
      "cell_type": "code",
      "execution_count": null,
      "id": "b0e04b74",
      "metadata": {
        "id": "b0e04b74",
        "outputId": "e2cba7c4-8fea-4e22-8ead-587947c2b548"
      },
      "outputs": [
        {
          "name": "stdout",
          "output_type": "stream",
          "text": [
            "Comprehension: [1, 4, 9, 16, 25, 36, 49, 64, 81, 100]\n",
            "Map + lambda: [1, 4, 9, 16, 25, 36, 49, 64, 81, 100]\n",
            "Số chẵn: [2, 4, 6, 8, 10]\n"
          ]
        }
      ],
      "source": [
        "# 💻 Ví dụ: So sánh comprehension và map/filter\n",
        "numbers = list(range(1, 11))\n",
        "squares_comp = [n ** 2 for n in numbers]\n",
        "squares_map = list(map(lambda n: n ** 2, numbers))\n",
        "print(\"Comprehension:\", squares_comp)\n",
        "print(\"Map + lambda:\", squares_map)\n",
        "even_numbers = [n for n in numbers if n % 2 == 0]\n",
        "print(\"Số chẵn:\", even_numbers)"
      ]
    },
    {
      "cell_type": "code",
      "execution_count": null,
      "id": "da60c543",
      "metadata": {
        "id": "da60c543",
        "outputId": "43f2f8f0-9c87-43ba-f963-6de884dae42d",
        "colab": {
          "base_uri": "https://localhost:8080/"
        }
      },
      "outputs": [
        {
          "output_type": "stream",
          "name": "stdout",
          "text": [
            "[16, 100, 144, 324]\n"
          ]
        }
      ],
      "source": [
        "# 🎯 Thử thách: Lọc và bình phương số chẵn\n",
        "# TODO: Cho danh sách numbers, tạo danh sách mới chứa bình phương của số chẵn\n",
        "numbers = [3, 4, 7, 10, 12, 15, 18]\n",
        "# Gợi ý: sử dụng list comprehension hoặc kết hợp filter/map\n",
        "even_square_numbers = [n ** 2 for n in numbers if n % 2 == 0]  #DỄ VẬY, Thay thế bằng kết quả của bạn\n",
        "print(even_square_numbers)\n"
      ]
    },
    {
      "cell_type": "markdown",
      "id": "095f86ff",
      "metadata": {
        "id": "095f86ff"
      },
      "source": [
        "### Module 8: Statistics & Math\n",
        "#### 📖 Giải thích\n",
        "- Mô-đun `statistics`: `mean`, `median`, `mode`, `stdev`, `pstdev`, `variance`.\n",
        "- Tính toán toán học dùng mô-đun `math`.\n",
        "#### ⚠️ Common Mistakes\n",
        "- Chia cho 0 khi danh sách rỗng.\n",
        "- Nhầm giữa `stdev` (mẫu) và `pstdev` (toàn bộ).\n",
        "#### 💡 Pythonic Way\n",
        "- Kiểm tra đầu vào trước khi tính toán.\n",
        "- Dùng `statistics` thay vì tự cài đặt nếu đã có sẵn.\n",
        "#### 🎯 Thử thách\n",
        "- Tính mean, median, std cho danh sách điểm thi."
      ]
    },
    {
      "cell_type": "code",
      "execution_count": null,
      "id": "1ac83b26",
      "metadata": {
        "id": "1ac83b26",
        "outputId": "10b1954b-d3e7-44ae-962d-32e0867949e0"
      },
      "outputs": [
        {
          "name": "stdout",
          "output_type": "stream",
          "text": [
            "Mean: 7.88\n",
            "Median: 7.9\n",
            "Standard Deviation: 0.8757853618324525\n"
          ]
        }
      ],
      "source": [
        "# 💻 Ví dụ: Tính toán thống kê cơ bản\n",
        "sample_data = [7.5, 8.0, 9.2, 6.8, 7.9]\n",
        "print(\"Mean:\", stats.mean(sample_data))\n",
        "print(\"Median:\", stats.median(sample_data))\n",
        "print(\"Standard Deviation:\", stats.stdev(sample_data))"
      ]
    },
    {
      "cell_type": "code",
      "execution_count": null,
      "id": "f5346645",
      "metadata": {
        "id": "f5346645",
        "colab": {
          "base_uri": "https://localhost:8080/"
        },
        "outputId": "eae077d0-80dd-4e15-e8ad-3e3ae108d2b7"
      },
      "outputs": [
        {
          "output_type": "stream",
          "name": "stdout",
          "text": [
            "{'Trung_binh': 7.43, 'Trung_vi': 7.5, 'Lech_chuan': 1.28}\n"
          ]
        }
      ],
      "source": [
        "# 🎯 Thử thách: Thống kê điểm thi\n",
        "# TODO: Cho danh sách điểm exams, tính mean, median, std\n",
        "# TODO: In kết quả với 2 chữ số thập phân\n",
        "import statistics as stats\n",
        "def tinh_thong_ke(ds_diem: list) -> dict:\n",
        "    tb = stats.mean(ds_diem)\n",
        "    tv = stats.median(ds_diem)\n",
        "    lech_chuan = stats.stdev(ds_diem)\n",
        "    ket_qua = {\n",
        "        \"Trung_binh\": round(tb, 2),\n",
        "        \"Trung_vi\": round(tv, 2),\n",
        "        \"Lech_chuan\": round(lech_chuan, 2)\n",
        "    }\n",
        "    return ket_qua\n",
        "exams = [5.5, 7.0, 8.75, 9.0, 6.25, 7.5, 8.0]\n",
        "thong_ke = tinh_thong_ke(exams)\n",
        "print(thong_ke)\n",
        "# Gợi ý: sử dụng round(value, 2)"
      ]
    },
    {
      "cell_type": "markdown",
      "id": "3c9d5ef7",
      "metadata": {
        "id": "3c9d5ef7"
      },
      "source": [
        "### Module 9: NumPy Basics\n",
        "#### 📖 Giải thích\n",
        "- `numpy.ndarray` cho phép thao tác vector hoá và broadcasting.\n",
        "- Các thao tác thường dùng: tạo array, reshape, slicing, toán tử vector.\n",
        "#### ⚠️ Common Mistakes\n",
        "- Nhầm list với array (thiếu thuộc tính `.shape`).\n",
        "- Sai lệch kích thước dẫn tới lỗi broadcasting.\n",
        "#### 💡 Pythonic Way\n",
        "- Ưu tiên thao tác vector hoá thay vì vòng lặp thuần Python.\n",
        "#### 🎯 Thử thách\n",
        "- Chuẩn hoá (normalize) mảng điểm theo z-score."
      ]
    },
    {
      "cell_type": "code",
      "execution_count": null,
      "id": "c47e8bb4",
      "metadata": {
        "id": "c47e8bb4",
        "outputId": "8fbd803f-8658-425f-964c-cadd62879507",
        "colab": {
          "base_uri": "https://localhost:8080/"
        }
      },
      "outputs": [
        {
          "output_type": "stream",
          "name": "stdout",
          "text": [
            "Array: [1 2 3 4 5]\n",
            "Shape: (5,)\n",
            "Bình phương từng phần tử: [ 1  4  9 16 25]\n",
            "Ma trận 3x4 [[ 1  2  3  4]\n",
            " [ 5  6  7  8]\n",
            " [ 9 10 11 12]]\n",
            "Cắt cột 2-3: [[ 2  3]\n",
            " [ 6  7]\n",
            " [10 11]]\n"
          ]
        }
      ],
      "source": [
        "# 💻 Ví dụ: Cơ bản về NumPy\n",
        "arr = np.array([1, 2, 3, 4, 5])\n",
        "print(\"Array:\", arr)\n",
        "print(\"Shape:\", arr.shape)\n",
        "print(\"Bình phương từng phần tử:\", arr ** 2)\n",
        "matrix = np.arange(1, 13).reshape(3, 4)\n",
        "print(\"Ma trận 3x4\",  matrix)\n",
        "print(\"Cắt cột 2-3:\", matrix[:, 1:3])"
      ]
    },
    {
      "cell_type": "code",
      "execution_count": null,
      "id": "c373345c",
      "metadata": {
        "id": "c373345c",
        "colab": {
          "base_uri": "https://localhost:8080/"
        },
        "outputId": "e428b5b5-9936-4b27-e4b9-be8db0cd5fb5"
      },
      "outputs": [
        {
          "output_type": "stream",
          "name": "stdout",
          "text": [
            "[-1.40372481 -0.87732801  0.38602432  1.75465602 -0.03509312  0.1754656 ]\n"
          ]
        }
      ],
      "source": [
        "# 🎯 Thử thách: Chuẩn hoá điểm với z-score\n",
        "# TODO: Tạo np.array từ danh sách điểm\n",
        "# TODO: Tính mean và std (dùng np.mean, np.std)\n",
        "# TODO: Chuẩn hoá từng điểm: (score - mean) / std\n",
        "import numpy as np\n",
        "raw_scores = [6.5, 7.0, 8.2, 9.5, 7.8, 8.0]\n",
        "diem_tho = np.array(raw_scores)\n",
        "trung_binh = np.mean(diem_tho)\n",
        "lech_chuan = np.std(diem_tho)\n",
        "normalized_scores = (diem_tho-trung_binh)/lech_chuan  # Thay bằng array chuẩn hoá\n",
        "print(normalized_scores)"
      ]
    },
    {
      "cell_type": "markdown",
      "id": "b71b4fd5",
      "metadata": {
        "id": "b71b4fd5"
      },
      "source": [
        "## Phần 3: Data Visualization"
      ]
    },
    {
      "cell_type": "markdown",
      "id": "9e172e82",
      "metadata": {
        "id": "9e172e82"
      },
      "source": [
        "### Module 10: Matplotlib Basics\n",
        "#### 📖 Giải thích\n",
        "- Các hàm cơ bản: `plt.plot`, `plt.bar`, `plt.hist`, `plt.scatter`.\n",
        "- Tư duy figure/axes: `fig, ax = plt.subplots()`.\n",
        "#### ⚠️ Common Mistakes\n",
        "- Quên `plt.show()` khiến biểu đồ không hiển thị.\n",
        "- Thiếu tiêu đề, nhãn trục, chú thích.\n",
        "#### 💡 Pythonic Way\n",
        "- Tách dữ liệu và thiết lập biểu đồ rõ ràng.\n",
        "- Dùng subplot để vẽ nhiều đồ thị trong một figure.\n",
        "#### 🎯 Thử thách\n",
        "- Vẽ histogram phân bố điểm của lớp."
      ]
    },
    {
      "cell_type": "code",
      "execution_count": null,
      "id": "cf00a91b",
      "metadata": {
        "id": "cf00a91b"
      },
      "outputs": [],
      "source": [
        "# 💻 Ví dụ: Line chart và bar chart\n",
        "fig, ax = plt.subplots(figsize=(6, 4))\n",
        "weeks = [1, 2, 3, 4]\n",
        "progress = [60, 65, 75, 85]\n",
        "ax.plot(weeks, progress, marker='o', label='Tiến độ')\n",
        "ax.set_title('Tiến bộ học tập')\n",
        "ax.set_xlabel('Tuần')\n",
        "ax.set_ylabel('Điểm trung bình')\n",
        "ax.legend()\n",
        "plt.show()\n",
        "\n",
        "fig, ax = plt.subplots(figsize=(6, 4))\n",
        "subjects = ['Toán', 'Lý', 'Hóa', 'Anh']\n",
        "scores = [8.5, 7.8, 8.2, 9.0]\n",
        "ax.bar(subjects, scores, color='skyblue')\n",
        "ax.set_title('Điểm trung bình theo môn')\n",
        "ax.set_ylabel('Điểm')\n",
        "plt.show()"
      ]
    },
    {
      "cell_type": "code",
      "execution_count": null,
      "id": "19033aff",
      "metadata": {
        "id": "19033aff",
        "colab": {
          "base_uri": "https://localhost:8080/",
          "height": 1000
        },
        "outputId": "666839c4-4dc5-4d7c-ba42-b324372b216a"
      },
      "outputs": [
        {
          "output_type": "display_data",
          "data": {
            "text/plain": [
              "<Figure size 640x480 with 1 Axes>"
            ],
            "image/png": "[encoded data removed]"
          },
          "metadata": {}
        },
        {
          "output_type": "display_data",
          "data": {
            "text/plain": [
              "<Figure size 1000x600 with 1 Axes>"
            ],
            "image/png": "[encoded data removed]"
          },
          "metadata": {}
        }
      ],
      "source": [
        "import numpy as np\n",
        "import matplotlib.pyplot as plt\n",
        "import seaborn as sns\n",
        "# 🎯 Thử thách: Histogram phân bố điểm\n",
        "\n",
        "# TODO: Cho danh sách điểm, vẽ histogram với matplotlib\n",
        "\n",
        "class_scores = np.random.normal(loc=7.5, scale=1.2, size=50)\n",
        "\n",
        "#loc: trung bình, scale độ lệch chuẩn,50 điểm\n",
        "\n",
        "plt.hist(class_scores, bins=10, edgecolor='black', alpha=0.7) # bins: số cột\n",
        "\n",
        "plt.title('Phân bố Điểm Thi của Lớp')\n",
        "\n",
        "plt.xlabel('Khoảng Điểm')\n",
        "\n",
        "plt.ylabel('Số lượng Học sinh (Tần suất)')\n",
        "\n",
        "plt.grid(axis='y', alpha=0.5)\n",
        "\n",
        "plt.show()\n",
        "\n",
        "#AI SUPPORT\n",
        "\n",
        "np.random.seed(42)\n",
        "class_scores = np.random.normal(loc=7.5, scale=1.2, size=100)\n",
        "sns.set_style(\"whitegrid\", {'axes.grid': False})\n",
        "fig, ax = plt.subplots(figsize=(10, 6))\n",
        "sns.histplot(class_scores, bins=10, kde=True,\n",
        "             color='#3498db',\n",
        "             edgecolor='white',\n",
        "             line_kws={'linewidth': 2, 'color': '#2980b9'})\n",
        "ax.set_title('Phân Bố Điểm Thi Của Lớp', fontsize=18, fontweight='bold', pad=20)\n",
        "ax.set_xlabel('Khoảng Điểm', fontsize=12, labelpad=10)\n",
        "ax.set_ylabel('Tần Suất (Số lượng học sinh)', fontsize=12, labelpad=10)\n",
        "\n",
        "#  đường thẳng đứng chỉ giá trị trung bình\n",
        "mean_score = np.mean(class_scores)\n",
        "ax.axvline(mean_score, color='#e74c3c', linestyle='--', linewidth=1.5, label=f'Trung bình: {mean_score:.2f}')\n",
        "ax.legend() # LaBEL DUONG TRUNG BINH\n",
        "\n",
        "# gọn viền\n",
        "ax.spines['top'].set_visible(False)\n",
        "ax.spines['right'].set_visible(False)\n",
        "ax.spines['left'].set_visible(False)\n",
        "\n",
        "# lưới ngang\n",
        "ax.yaxis.grid(True, linestyle='--', which='major', color='grey', alpha=.25)\n",
        "\n",
        "# vạch chia số\n",
        "plt.xticks(fontsize=10)\n",
        "plt.yticks(fontsize=10)\n",
        "\n",
        "plt.tight_layout()\n",
        "plt.show()"
      ]
    },
    {
      "cell_type": "markdown",
      "id": "6a54695f",
      "metadata": {
        "id": "6a54695f"
      },
      "source": [
        "## Phần 4: Final Projects\n",
        "Hoàn thành ba dự án dưới đây. Bạn có thể mở rộng thêm tính năng để tăng thử thách."
      ]
    },
    {
      "cell_type": "markdown",
      "id": "5e6481af",
      "metadata": {
        "id": "5e6481af"
      },
      "source": [
        "### Bài 1: Quản lý điểm học sinh (Nâng cao)\n",
        "#### Yêu cầu\n",
        "- Nhập danh sách học sinh và điểm (có thể dùng dict).\n",
        "- Xếp loại học sinh theo thang điểm (A/B/C/D/F tuỳ vào bạn định nghĩa).\n",
        "- Tìm học sinh điểm cao nhất/thấp nhất.\n",
        "- Tính mean, median, std của lớp.\n",
        "- Vẽ histogram phân bố điểm và bar chart số lượng từng loại.\n",
        "#### Gợi ý kỹ năng\n",
        "- Dùng dict để lưu trữ thông tin, hàm để tổ chức logic, `statistics` và `matplotlib`."
      ]
    },
    {
      "cell_type": "code",
      "execution_count": null,
      "id": "da81a7aa",
      "metadata": {
        "id": "da81a7aa",
        "colab": {
          "base_uri": "https://localhost:8080/",
          "height": 1000
        },
        "outputId": "a69d3e7a-92b0-4fe2-a505-dfbd16237731"
      },
      "outputs": [
        {
          "output_type": "stream",
          "name": "stdout",
          "text": [
            "Tên (hoặc 'STOP'): Long\n",
            "   Điểm (nhập 'd' để xong): 8\n",
            "   Điểm (nhập 'd' để xong): d\n",
            "Tên (hoặc 'STOP'): Long 2\n",
            "   Điểm (nhập 'd' để xong): 9\n",
            "   Điểm (nhập 'd' để xong): d\n",
            "Tên (hoặc 'STOP'): LOngng\n",
            "   Điểm (nhập 'd' để xong): 8\n",
            "   Điểm (nhập 'd' để xong): LVD\n",
            "⚠️ Lỗi số.\n",
            "   Điểm (nhập 'd' để xong): 2\n",
            "   Điểm (nhập 'd' để xong): 3\n",
            "   Điểm (nhập 'd' để xong): 5\n",
            "   Điểm (nhập 'd' để xong): 6\n",
            "   Điểm (nhập 'd' để xong): \n",
            "⚠️ Lỗi số.\n",
            "   Điểm (nhập 'd' để xong): 1\n",
            "   Điểm (nhập 'd' để xong): 2\n",
            "   Điểm (nhập 'd' để xong): 2\n",
            "   Điểm (nhập 'd' để xong): \n",
            "⚠️ Lỗi số.\n",
            "   Điểm (nhập 'd' để xong): \n",
            "⚠️ Lỗi số.\n",
            "   Điểm (nhập 'd' để xong): 4\n",
            "   Điểm (nhập 'd' để xong): 5\n",
            "   Điểm (nhập 'd' để xong): 6\n",
            "   Điểm (nhập 'd' để xong): 7\n",
            "   Điểm (nhập 'd' để xong): 8\n",
            "   Điểm (nhập 'd' để xong): 9\n",
            "   Điểm (nhập 'd' để xong): d\n",
            "Tên (hoặc 'STOP'): stop\n",
            "\n",
            "--- BÁO CÁO CHI TIẾT ---\n",
            "Long: TB=8.00, Hạng=B\n",
            "Long 2: TB=9.00, Hạng=A\n",
            "LOngng: TB=4.86, Hạng=D\n",
            "\n",
            "--- THỐNG KÊ CHUNG LỚP ---\n",
            "TB Lớp: 7.29\n",
            "TV Lớp: 8.00\n",
            "Độ lệch chuẩn: 2.16\n",
            "Cao nhất: Long 2 (9.00)\n",
            "Thấp nhất: LOngng (4.86)\n"
          ]
        },
        {
          "output_type": "display_data",
          "data": {
            "text/plain": [
              "<Figure size 1200x500 with 2 Axes>"
            ],
            "image/png": "[encoded data removed]"
          },
          "metadata": {}
        }
      ],
      "source": [
        "import statistics as stats\n",
        "import matplotlib.pyplot as plt\n",
        "from collections import Counter\n",
        "\n",
        "def nhap_diem():\n",
        "    data = {}\n",
        "    while True:\n",
        "        ten = input(\"Tên (hoặc 'STOP'): \").strip()\n",
        "        if ten.lower() == 'stop': break\n",
        "        if not ten: continue\n",
        "        diem_list = []\n",
        "        while True:\n",
        "            diem_str = input(\"   Điểm (nhập 'd' để xong): \").strip()\n",
        "            if diem_str.lower() == 'd': break\n",
        "            try:\n",
        "                diem = float(diem_str)\n",
        "                if 0 <= diem <= 10:\n",
        "                    diem_list.append(diem)\n",
        "                else:\n",
        "                    print(\"⚠️ Điểm từ 0-10.\")\n",
        "            except ValueError:\n",
        "                print(\"⚠️ Lỗi số.\")\n",
        "        if diem_list:\n",
        "            data[ten] = diem_list\n",
        "    return data\n",
        "\n",
        "def xep_hang(tb: float) -> str:\n",
        "    if tb >= 8.5: return \"A\"\n",
        "    elif tb >= 7.0: return \"B\"\n",
        "    elif tb >= 5.5: return \"C\"\n",
        "    else: return \"D\"\n",
        "\n",
        "def phan_tich(ds_data):\n",
        "    tb_all = {}\n",
        "    print(\"\\n--- BÁO CÁO CHI TIẾT ---\")\n",
        "    for ten, diem in ds_data.items():\n",
        "        if diem:\n",
        "            tb = sum(diem) / len(diem)\n",
        "            tb_all[ten] = tb\n",
        "            hang = xep_hang(tb)\n",
        "            print(f\"{ten}: TB={tb:.2f}, Hạng={hang}\")\n",
        "    diem_tb_lop = list(tb_all.values())\n",
        "    if not diem_tb_lop: return None, None\n",
        "\n",
        "    tb_lop = stats.mean(diem_tb_lop)\n",
        "    tv_lop = stats.median(diem_tb_lop)\n",
        "    std_lop = stats.stdev(diem_tb_lop) if len(diem_tb_lop) > 1 else 0\n",
        "\n",
        "    print(\"\\n--- THỐNG KÊ CHUNG LỚP ---\")\n",
        "    print(f\"TB Lớp: {tb_lop:.2f}\")\n",
        "    print(f\"TV Lớp: {tv_lop:.2f}\")\n",
        "    print(f\"Độ lệch chuẩn: {std_lop:.2f}\")\n",
        "\n",
        "    hs_max = max(tb_all, key=tb_all.get)\n",
        "    hs_min = min(tb_all, key=tb_all.get)\n",
        "    print(f\"Cao nhất: {hs_max} ({tb_all[hs_max]:.2f})\")\n",
        "    print(f\"Thấp nhất: {hs_min} ({tb_all[hs_min]:.2f})\")\n",
        "    return diem_tb_lop, tb_lop\n",
        "\n",
        "def ve_bieu_do(diem_tb_lop, tb_lop):\n",
        "    if diem_tb_lop is None: return\n",
        "    hang_lop = []\n",
        "    for diem in diem_tb_lop: hang_lop.append(xep_hang(diem))\n",
        "    tan_suat = Counter(hang_lop)\n",
        "    hang_keys = sorted(tan_suat.keys())\n",
        "    hang_values = [tan_suat.get(k, 0) for k in hang_keys]\n",
        "\n",
        "    fig, axes = plt.subplots(1, 2, figsize=(12, 5))\n",
        "    plt.suptitle(\"PHÂN TÍCH ĐIỂM HỌC SINH\", fontsize=14)\n",
        "\n",
        "    ax1 = axes[0]\n",
        "    ax1.hist(diem_tb_lop, bins=5, edgecolor='black', alpha=0.7)\n",
        "    ax1.axvline(tb_lop, color='red', linestyle='--', label=f'TB Lớp: {tb_lop:.2f}')\n",
        "    ax1.set_title(\"Phân bố Điểm TB\")\n",
        "    ax1.legend()\n",
        "\n",
        "    ax2 = axes[1]\n",
        "    ax2.bar(hang_keys, hang_values)\n",
        "    ax2.set_title(\"Số lượng Xếp loại\")\n",
        "    for i, v in enumerate(hang_values):\n",
        "        ax2.text(i, v + 0.1, str(v), ha='center', fontweight='bold')\n",
        "\n",
        "    plt.tight_layout()\n",
        "    plt.show()\n",
        "\n",
        "if __name__ == \"__main__\":\n",
        "    du_lieu = nhap_diem()\n",
        "    if du_lieu:\n",
        "        diem_lop, tb_lop = phan_tich(du_lieu)\n",
        "        ve_bieu_do(diem_lop, tb_lop)\n",
        "    else:\n",
        "        print(\"Không có dữ liệu để chạy chương trình.\")"
      ]
    },
    {
      "cell_type": "markdown",
      "id": "41fcdb75",
      "metadata": {
        "id": "41fcdb75"
      },
      "source": [
        "### Bài 2: Vẽ hình thoi\n",
        "#### Yêu cầu\n",
        "- Nhập `n` (validate số nguyên dương).\n",
        "- Nếu `n` chẵn thì tăng lên `n + 1` để đảm bảo số lẻ.\n",
        "- Vẽ hình thoi n×n bằng ký tự `*`.\n",
        "#### Gợi ý kỹ năng\n",
        "- Sử dụng vòng lặp, nhân chuỗi và xử lý ngoại lệ."
      ]
    },
    {
      "cell_type": "code",
      "execution_count": null,
      "id": "702d077b",
      "metadata": {
        "id": "702d077b",
        "colab": {
          "base_uri": "https://localhost:8080/"
        },
        "outputId": "ae51faae-60c5-41a2-e0b6-830f097256b3"
      },
      "outputs": [
        {
          "output_type": "stream",
          "name": "stdout",
          "text": [
            "Nhập kích thước hình thoi (n): 5\n",
            "  *\n",
            " ***\n",
            "*****\n",
            " ***\n",
            "  *\n"
          ]
        }
      ],
      "source": [
        "def nhap():\n",
        "    while True:\n",
        "        try:\n",
        "            n_nhap = input(\"Nhập kích thước hình thoi (n): \")\n",
        "            n = int(n_nhap)\n",
        "            if n <= 0:\n",
        "                print(\"Lỗi: Vui lòng nhập số nguyên dương.\")\n",
        "                continue\n",
        "            if n % 2 == 0:\n",
        "                n += 1\n",
        "            return n\n",
        "        except ValueError:\n",
        "            print(\"Lỗi: Vui lòng nhập số nguyên hợp lệ.\")\n",
        "\n",
        "def res(n):\n",
        "    center = n // 2\n",
        "    # Nửa trên\n",
        "    for i in range(center + 1):\n",
        "        khoang_trang = ' ' * (center - i)\n",
        "        ngoi_sao = '*' * (2 * i + 1)\n",
        "        print(khoang_trang + ngoi_sao)\n",
        "    # Nửa dưới\n",
        "    for i in range(center - 1, -1, -1):\n",
        "        khoang_trang = ' ' * (center - i)\n",
        "        ngoi_sao = '*' * (2 * i + 1)\n",
        "        print(khoang_trang + ngoi_sao)\n",
        "\n",
        "if __name__ == \"__main__\":\n",
        "    kich_thuoc = nhap()\n",
        "    res(kich_thuoc)"
      ]
    },
    {
      "cell_type": "markdown",
      "id": "3e8f4217",
      "metadata": {
        "id": "3e8f4217"
      },
      "source": [
        "### Bài 3: Statistical Analysis Project ⭐\n",
        "#### Yêu cầu\n",
        "- Input: điểm của nhiều môn (Toán, Lý, Hóa, Anh, Văn) cho nhiều học sinh.\n",
        "- Tính mean, median, mode, std cho mỗi môn.\n",
        "- Tính mean GPA cho từng học sinh.\n",
        "- Tính hệ số tương quan giữa các môn.\n",
        "- Vẽ histogram cho mỗi môn, bar chart điểm trung bình từng môn, scatter plot thể hiện tương quan hai môn.\n",
        "#### Gợi ý kỹ năng\n",
        "- Sử dụng NumPy arrays, `statistics`, `numpy.corrcoef`, `matplotlib`."
      ]
    },
    {
      "cell_type": "code",
      "execution_count": 106,
      "id": "d5df8a2b",
      "metadata": {
        "id": "d5df8a2b",
        "colab": {
          "base_uri": "https://localhost:8080/",
          "height": 1000
        },
        "outputId": "32b5e933-55a0-4efa-b9c0-c56bc7c71ba5"
      },
      "outputs": [
        {
          "output_type": "stream",
          "name": "stdout",
          "text": [
            "--- THỐNG KÊ TỪNG MÔN ---\n",
            "[Toán]: TB=7.70, TV=8.00, STD=2.00, Mode=10\n",
            "[Lý  ]: TB=7.30, TV=7.50, STD=1.85, Mode=9\n",
            "[Hóa ]: TB=7.30, TV=7.00, STD=1.95, Mode=5\n",
            "[Anh ]: TB=8.10, TV=8.00, STD=1.37, Mode=8\n",
            "[Văn ]: TB=8.00, TV=8.00, STD=1.41, Mode=8\n",
            "\n",
            "--- ĐIỂM TRUNG BÌNH HỌC SINH ---\n",
            "Học sinh 1: GPA = 7.40\n",
            "Học sinh 2: GPA = 7.20\n",
            "Học sinh 3: GPA = 8.00\n",
            "\n",
            "--- HỆ SỐ TƯƠNG QUAN GIỮA TẤT CẢ CÁC MÔN ---\n",
            "\n",
            "Ma trận Tương quan:\n",
            "[[ 1.    0.35  0.02  0.12 -0.64]\n",
            " [ 0.35  1.   -0.19 -0.52 -0.27]\n",
            " [ 0.02 -0.19  1.    0.29 -0.14]\n",
            " [ 0.12 -0.52  0.29  1.   -0.21]\n",
            " [-0.64 -0.27 -0.14 -0.21  1.  ]]\n"
          ]
        },
        {
          "output_type": "display_data",
          "data": {
            "text/plain": [
              "<Figure size 1200x600 with 6 Axes>"
            ],
            "image/png": "[encoded data removed]"
          },
          "metadata": {}
        },
        {
          "output_type": "display_data",
          "data": {
            "text/plain": [
              "<Figure size 700x400 with 1 Axes>"
            ],
            "image/png": "[encoded data removed]"
          },
          "metadata": {}
        },
        {
          "output_type": "display_data",
          "data": {
            "text/plain": [
              "<Figure size 600x400 with 1 Axes>"
            ],
            "image/png": "[encoded data removed]"
          },
          "metadata": {}
        }
      ],
      "source": [
        "import numpy as np\n",
        "import statistics as stats\n",
        "import matplotlib.pyplot as plt\n",
        "import matplotlib.ticker as ticker\n",
        "\n",
        "mon_hoc = [\"Toán\", \"Lý\", \"Hóa\", \"Anh\", \"Văn\"]\n",
        "so_hoc_sinh = 10\n",
        "np.random.seed(2025)\n",
        "diem_data = np.random.randint(5, 11, size=(so_hoc_sinh, len(mon_hoc)))\n",
        "\n",
        "\n",
        "print(\"--- THỐNG KÊ TỪNG MÔN ---\")\n",
        "tb_mon = []\n",
        "median_mon = []\n",
        "\n",
        "for i, mon in enumerate(mon_hoc):\n",
        "    diem_mon = diem_data[:, i]\n",
        "\n",
        "    tb = np.mean(diem_mon)\n",
        "    tv = np.median(diem_mon)\n",
        "    std = np.std(diem_mon)\n",
        "\n",
        "    try:\n",
        "        mode = stats.mode(diem_mon)\n",
        "    except:\n",
        "        mode = \"N/A\"\n",
        "\n",
        "    tb_mon.append(tb)\n",
        "    median_mon.append(tv)\n",
        "    print(f\"[{mon:<4}]: TB={tb:.2f}, TV={tv:.2f}, STD={std:.2f}, Mode={mode}\")\n",
        "\n",
        "print(\"\\n--- ĐIỂM TRUNG BÌNH HỌC SINH ---\")\n",
        "\n",
        "gpa_hoc_sinh = np.mean(diem_data, axis=1)\n",
        "\n",
        "for i in range(3):\n",
        "    print(f\"Học sinh {i+1}: GPA = {gpa_hoc_sinh[i]:.2f}\")\n",
        "\n",
        "\n",
        "print(\"\\n--- HỆ SỐ TƯƠNG QUAN GIỮA TẤT CẢ CÁC MÔN ---\")\n",
        "\n",
        "ma_tran_tuong_quan = np.corrcoef(diem_data, rowvar=False)\n",
        "\n",
        "print(\"\\nMa trận Tương quan:\")\n",
        "\n",
        "print(np.round(ma_tran_tuong_quan, 2))\n",
        "# ---------------------------------------------------------------------\n",
        "\n",
        "\n",
        "diem_toan = diem_data[:, 0]\n",
        "diem_ly = diem_data[:, 1]\n",
        "tuong_quan = ma_tran_tuong_quan[0, 1]\n",
        "fig, axes = plt.subplots(2, 3, figsize=(12, 6))\n",
        "plt.suptitle(\"PHÂN BỐ ĐIỂM CỦA CÁC MÔN\", fontsize=14)\n",
        "axes_flat = axes.flatten()\n",
        "\n",
        "for i, mon in enumerate(mon_hoc):\n",
        "    ax = axes_flat[i]\n",
        "    diem_mon = diem_data[:, i]\n",
        "\n",
        "    ax.hist(diem_mon, bins=6, edgecolor='black', alpha=0.7)\n",
        "    ax.yaxis.set_major_locator(ticker.MaxNLocator(integer=True))\n",
        "\n",
        "    tb = np.mean(diem_mon)\n",
        "\n",
        "    ax.axvline(tb, color='red', linestyle='--', label='TB', linewidth=1.5)\n",
        "    ax.axvline(median_mon[i], color='blue', linestyle='-', label='TV', linewidth=1.5)\n",
        "\n",
        "    ax.set_title(mon)\n",
        "    ax.set_xlabel(\"Điểm\")\n",
        "    ax.legend(fontsize=8)\n",
        "\n",
        "axes_flat[-1].axis('off')\n",
        "\n",
        "fig2, ax_bar = plt.subplots(figsize=(7, 4))\n",
        "ax_bar.bar(mon_hoc, tb_mon, color=['skyblue', 'lightgreen', 'coral', 'gold', 'violet'])\n",
        "ax_bar.set_title(\"Điểm Trung bình Từng Môn\")\n",
        "ax_bar.set_ylabel(\"Điểm TB\")\n",
        "\n",
        "fig3, ax_scatter = plt.subplots(figsize=(6, 4))\n",
        "ax_scatter.scatter(diem_toan, diem_ly, alpha=0.7)\n",
        "ax_scatter.set_title(f\"Tương quan Toán và Lý (r={tuong_quan:.2f})\")\n",
        "ax_scatter.set_xlabel(\"Điểm Toán\")\n",
        "ax_scatter.set_ylabel(\"Điểm Lý\")\n",
        "\n",
        "plt.tight_layout()\n",
        "plt.show()"
      ]
    }
  ],
  "metadata": {
    "kernelspec": {
      "display_name": ".venv",
      "language": "python",
      "name": "python3"
    },
    "language_info": {
      "codemirror_mode": {
        "name": "ipython",
        "version": 3
      },
      "file_extension": ".py",
      "mimetype": "text/x-python",
      "name": "python",
      "nbconvert_exporter": "python",
      "pygments_lexer": "ipython3",
      "version": "3.11.2"
    },
    "colab": {
      "provenance": [],
      "include_colab_link": true
    }
  },
  "nbformat": 4,
  "nbformat_minor": 5
}